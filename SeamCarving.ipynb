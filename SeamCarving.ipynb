{
  "cells": [
    {
      "cell_type": "markdown",
      "metadata": {
        "id": "X3Dndk0yKqqV"
      },
      "source": [
        "# Importing all necessary libraries"
      ]
    },
    {
      "cell_type": "code",
      "execution_count": null,
      "metadata": {
        "id": "sVmxhDRTKqqb"
      },
      "outputs": [],
      "source": [
        "import sys\n",
        "from tqdm import tqdm, trange\n",
        "import numpy as np\n",
        "from scipy.ndimage import convolve\n",
        "import imageio.v2 as imageio\n",
        "import random\n",
        "import numba\n",
        "from numba import jit\n",
        "import numpy as np\n",
        "from imageio import imread, imwrite\n",
        "from tqdm import tqdm\n",
        "import time\n",
        "import matplotlib.pyplot as plt"
      ]
    },
    {
      "cell_type": "markdown",
      "metadata": {
        "id": "LIMf4Y6gKqqd"
      },
      "source": [
        "# Brute Force Approach for Seam Carving"
      ]
    },
    {
      "cell_type": "code",
      "execution_count": null,
      "metadata": {
        "id": "TwlZsyNaKqqd"
      },
      "outputs": [],
      "source": [
        "def calc_energy(img):\n",
        "    \"\"\"Calculate the energy map of an image using the Sobel operator.\"\"\"\n",
        "    filter_du = np.array([\n",
        "        [1.0, 2.0, 1.0],\n",
        "        [0.0, 0.0, 0.0],\n",
        "        [-1.0, -2.0, -1.0],\n",
        "    ])\n",
        "    filter_du = np.stack([filter_du] * 3, axis=2)  # Replicate for each color channel\n",
        "\n",
        "    filter_dv = np.array([\n",
        "        [1.0, 0.0, -1.0],\n",
        "        [2.0, 0.0, -2.0],\n",
        "        [1.0, 0.0, -1.0],\n",
        "    ])\n",
        "    filter_dv = np.stack([filter_dv] * 3, axis=2)  # Replicate for each color channel\n",
        "\n",
        "    img = img.astype('float32')\n",
        "    convolved = np.abs(convolve(img, filter_du)) + np.abs(convolve(img, filter_dv))\n",
        "    energy_map = convolved.sum(axis=2)\n",
        "    return energy_map\n",
        "\n",
        "def random_seam(energy_map):\n",
        "    r, c = energy_map.shape\n",
        "    seam = np.zeros(r, dtype=int)\n",
        "    seam[0] = random.randint(0, c - 1)\n",
        "\n",
        "    for i in range(1, r):\n",
        "        prev_x = seam[i-1]\n",
        "        if prev_x == 0:\n",
        "            options = [prev_x, prev_x+1]\n",
        "        elif prev_x == c - 1:\n",
        "            options = [prev_x-1, prev_x]\n",
        "        else:\n",
        "            options = [prev_x-1, prev_x, prev_x+1]\n",
        "        seam[i] = min(options, key=lambda x: energy_map[i, x])\n",
        "\n",
        "    return seam\n",
        "\n",
        "def remove_seam(img, seam):\n",
        "    r, c, _ = img.shape\n",
        "    new_img = np.zeros((r, c-1, 3), dtype=img.dtype)\n",
        "    for i in range(r):\n",
        "        new_img[i, :, :] = np.delete(img[i, :, :], seam[i], axis=0)\n",
        "    return new_img\n",
        "\n",
        "def brute_force_seam_carve_scaled(img, scale_c, num_trials_per_seam=300):\n",
        "    r, c, _ = img.shape\n",
        "    new_c = int(scale_c * c)\n",
        "    seams_to_remove = c - new_c\n",
        "\n",
        "    for _ in tqdm(range(seams_to_remove), desc=\"Removing seams\"):\n",
        "        best_img = None\n",
        "        min_energy = float('inf')\n",
        "        energy_map = calc_energy(img)\n",
        "\n",
        "        for _ in range(num_trials_per_seam):\n",
        "            seam = random_seam(energy_map)\n",
        "            img_with_seam_removed = remove_seam(img, seam)\n",
        "            seam_energy = sum(energy_map[i, seam[i]] for i in range(r))\n",
        "            if seam_energy < min_energy:\n",
        "                min_energy = seam_energy\n",
        "                best_img = img_with_seam_removed\n",
        "\n",
        "        img = best_img  # Update img to the best found in this iteration\n",
        "\n",
        "    return img\n",
        "\n",
        "def brute_force_seam_carving(isRow, input_path, output_path, scale):\n",
        "\n",
        "  try:\n",
        "      img = imageio.imread(input_path)\n",
        "      if isRow:\n",
        "          img = np.rot90(img, 1, (0, 1))\n",
        "          img = brute_force_seam_carve_scaled(img, scale)\n",
        "          img = np.rot90(img, 3, (0, 1))\n",
        "      else:\n",
        "          img = brute_force_seam_carve_scaled(img, scale)\n",
        "      imageio.imwrite(output_path, img)\n",
        "      print(f\"Resized image saved to {output_path}\")\n",
        "  except Exception as e:\n",
        "      print(f\"An error occurred: {e}\")"
      ]
    },
    {
      "cell_type": "markdown",
      "metadata": {
        "id": "wB7dlT9XKqqg"
      },
      "source": [
        "# Dynamic Programming Approach for Seam Carving"
      ]
    },
    {
      "cell_type": "code",
      "execution_count": null,
      "metadata": {
        "id": "-mBX53dzKqqg"
      },
      "outputs": [],
      "source": [
        "def calc_energy(img):\n",
        "    filter_du = np.array([\n",
        "        [1.0, 2.0, 1.0],\n",
        "        [0.0, 0.0, 0.0],\n",
        "        [-1.0, -2.0, -1.0],\n",
        "    ])\n",
        "    # This converts it from a 2D filter to a 3D filter, replicating the same\n",
        "    # filter for each channel: R, G, B\n",
        "    filter_du = np.stack([filter_du] * 3, axis=2)\n",
        "\n",
        "    filter_dv = np.array([\n",
        "        [1.0, 0.0, -1.0],\n",
        "        [2.0, 0.0, -2.0],\n",
        "        [1.0, 0.0, -1.0],\n",
        "    ])\n",
        "    # This converts it from a 2D filter to a 3D filter, replicating the same\n",
        "    # filter for each channel: R, G, B\n",
        "    filter_dv = np.stack([filter_dv] * 3, axis=2)\n",
        "\n",
        "    img = img.astype('float32')\n",
        "    convolved = np.absolute(convolve(img, filter_du)) + np.absolute(convolve(img, filter_dv))\n",
        "\n",
        "    # We sum the energies in the red, green, and blue channels\n",
        "    energy_map = convolved.sum(axis=2)\n",
        "\n",
        "    return energy_map\n",
        "\n",
        "def crop_c(img, scale_c):\n",
        "    r, c, _ = img.shape\n",
        "    new_c = int(scale_c * c)\n",
        "\n",
        "    for i in trange(c - new_c):\n",
        "        img = carve_column(img)\n",
        "\n",
        "    return img\n",
        "\n",
        "def crop_r(img, scale_r):\n",
        "    img = np.rot90(img, 1, (0, 1))\n",
        "    img = crop_c(img, scale_r)\n",
        "    img = np.rot90(img, 3, (0, 1))\n",
        "    return img\n",
        "\n",
        "def carve_column(img):\n",
        "    r, c, _ = img.shape\n",
        "\n",
        "    M, backtrack = minimum_seam(img)\n",
        "    mask = np.ones((r, c), dtype=bool)\n",
        "\n",
        "    j = np.argmin(M[-1])\n",
        "    for i in reversed(range(r)):\n",
        "        mask[i, j] = False\n",
        "        j = backtrack[i, j]\n",
        "\n",
        "    mask = np.stack([mask] * 3, axis=2)\n",
        "    img = img[mask].reshape((r, c - 1, 3))\n",
        "    return img\n",
        "\n",
        "def minimum_seam(img):\n",
        "    r, c, _ = img.shape\n",
        "    energy_map = calc_energy(img)\n",
        "\n",
        "    M = energy_map.copy()\n",
        "    backtrack = np.zeros_like(M, dtype=int)\n",
        "\n",
        "    for i in range(1, r):\n",
        "        for j in range(0, c):\n",
        "            # Handle the left edge of the image, to ensure we don't index a -1\n",
        "            if j == 0:\n",
        "                idx = np.argmin(M[i-1, j:j + 2])\n",
        "                backtrack[i, j] = idx + j\n",
        "                min_energy = M[i-1, idx + j]\n",
        "            else:\n",
        "                idx = np.argmin(M[i - 1, j - 1:j + 2])\n",
        "                backtrack[i, j] = idx + j - 1\n",
        "                min_energy = M[i - 1, idx + j - 1]\n",
        "\n",
        "            M[i, j] += min_energy\n",
        "\n",
        "    return M, backtrack\n",
        "\n",
        "def seam_carving_dynamic(isRow, scale, in_filename, out_filename):\n",
        "    \"\"\"Main function to apply seam carving for image resizing.\"\"\"\n",
        "    try:\n",
        "        img = imageio.imread(in_filename)\n",
        "        if isRow:\n",
        "            img = crop_r(img, scale)\n",
        "        else:\n",
        "            img = crop_c(img, scale)\n",
        "        imageio.imwrite(out_filename, img)\n",
        "        print(f\"Resized image saved to {out_filename}\")\n",
        "    except Exception as e:\n",
        "        print(f\"An error occurred: {e}\")"
      ]
    },
    {
      "cell_type": "markdown",
      "metadata": {
        "id": "y-RX9wUrKqqh"
      },
      "source": [
        "# Greedy Approach for Seam Carving"
      ]
    },
    {
      "cell_type": "code",
      "execution_count": null,
      "metadata": {
        "id": "vmKrUSpYKqqi"
      },
      "outputs": [],
      "source": [
        "def calc_energy(img):\n",
        "    \"\"\"Calculate the energy map of an image using the Sobel operator.\"\"\"\n",
        "    filter_du = np.array([\n",
        "        [1.0, 2.0, 1.0],\n",
        "        [0.0, 0.0, 0.0],\n",
        "        [-1.0, -2.0, -1.0],\n",
        "    ])\n",
        "    filter_du = np.stack([filter_du] * 3, axis=2)\n",
        "\n",
        "    filter_dv = np.array([\n",
        "        [1.0, 0.0, -1.0],\n",
        "        [2.0, 0.0, -2.0],\n",
        "        [1.0, 0.0, -1.0],\n",
        "    ])\n",
        "    filter_dv = np.stack([filter_dv] * 3, axis=2)\n",
        "\n",
        "    img = img.astype('float32')\n",
        "    convolved = np.abs(convolve(img, filter_du)) + np.abs(convolve(img, filter_dv))\n",
        "    energy_map = convolved.sum(axis=2)\n",
        "    return energy_map\n",
        "\n",
        "def greedy_carve_column(img):\n",
        "    \"\"\"Carve one column based on a greedy approach from the energy map.\"\"\"\n",
        "    r, c, _ = img.shape\n",
        "    energy_map = calc_energy(img)\n",
        "    mask = np.ones((r, c), dtype=bool)\n",
        "\n",
        "    # Start carving from the bottom row by finding the minimum energy\n",
        "    j = np.argmin(energy_map[-1])\n",
        "    for i in reversed(range(r)):\n",
        "        mask[i, j] = False  # Remove the pixel with the least energy in current row\n",
        "        # Update j for the next row to move to left, right, or stay\n",
        "        if i > 0:\n",
        "            if j == 0:\n",
        "                j += np.argmin(energy_map[i-1, j:j+2])\n",
        "            else:\n",
        "                j += np.argmin(energy_map[i-1, max(j-1, 0):min(j+2, c)]) - 1\n",
        "\n",
        "\n",
        "    mask = np.stack([mask] * 3, axis=2)\n",
        "    img = img[mask].reshape((r, c - 1, 3))\n",
        "    return img\n",
        "\n",
        "def greedy_carve_row(img):\n",
        "    \"\"\"Carve one row based on a greedy approach from the energy map.\"\"\"\n",
        "    img = np.rot90(img, 1, (0, 1))\n",
        "    img = greedy_carve_column(img)\n",
        "    img = np.rot90(img, 3, (0, 1))\n",
        "    return img\n",
        "\n",
        "def greedy_crop_c(img, scale_c):\n",
        "    \"\"\"Resize image by cropping columns based on a greedy approach.\"\"\"\n",
        "    r, c, _ = img.shape\n",
        "    new_c = int(scale_c * c)\n",
        "    for _ in tqdm(range(c - new_c), desc='Greedy cropping columns'):\n",
        "        img = greedy_carve_column(img)\n",
        "    return img\n",
        "\n",
        "\n",
        "def greedy_seam_carving(isRow, scale, in_filename, out_filename):\n",
        "    \"\"\"Main function to apply greedy seam carving for image resizing.\"\"\"\n",
        "    try:\n",
        "        img = imageio.imread(in_filename)\n",
        "        if isRow:\n",
        "            img = np.rot90(img, 1, (0, 1))\n",
        "            img = greedy_crop_c(img, scale)\n",
        "            img = np.rot90(img, 3, (0, 1))\n",
        "        else:\n",
        "            img = greedy_crop_c(img, scale)\n",
        "        imageio.imwrite(out_filename, img)\n",
        "        print(f\"Resized image saved to {out_filename}\")\n",
        "    except Exception as e:\n",
        "        print(f\"An error occurred: {e}\")\n"
      ]
    },
    {
      "cell_type": "code",
      "execution_count": null,
      "metadata": {
        "id": "Y7kDigzdThzG"
      },
      "outputs": [],
      "source": [
        "!mkdir /content/output\n",
        "\n",
        "!mkdir /content/output/BRUTE\n",
        "!mkdir /content/output/GREEDY\n",
        "!mkdir /content/output/DYNAMIC"
      ]
    },
    {
      "cell_type": "markdown",
      "source": [
        "# Calculating the runtime and plotting the graphs"
      ],
      "metadata": {
        "id": "FpiLA9PnOTvk"
      }
    },
    {
      "cell_type": "code",
      "execution_count": null,
      "metadata": {
        "colab": {
          "base_uri": "https://localhost:8080/"
        },
        "id": "Dqmqt8Y4LIBd",
        "outputId": "bedf44b0-988e-41d5-de97-471395970102"
      },
      "outputs": [
        {
          "metadata": {
            "tags": null
          },
          "name": "stderr",
          "output_type": "stream",
          "text": [
            "Removing seams: 100%|██████████| 54/54 [02:37<00:00,  2.92s/it]\n"
          ]
        },
        {
          "metadata": {
            "tags": null
          },
          "name": "stdout",
          "output_type": "stream",
          "text": [
            "Resized image saved to /content/output/BRUTE/pic1_90.0%.jpg\n"
          ]
        },
        {
          "metadata": {
            "tags": null
          },
          "name": "stderr",
          "output_type": "stream",
          "text": [
            "Greedy cropping columns: 100%|██████████| 54/54 [00:05<00:00,  9.83it/s]\n"
          ]
        },
        {
          "metadata": {
            "tags": null
          },
          "name": "stdout",
          "output_type": "stream",
          "text": [
            "Resized image saved to /content/output/GREEDY/pic1_90.0%.jpg\n"
          ]
        },
        {
          "metadata": {
            "tags": null
          },
          "name": "stderr",
          "output_type": "stream",
          "text": [
            "100%|██████████| 54/54 [01:26<00:00,  1.60s/it]\n"
          ]
        },
        {
          "metadata": {
            "tags": null
          },
          "name": "stdout",
          "output_type": "stream",
          "text": [
            "Resized image saved to /content/output/DYNAMIC/pic1_90.0%.jpg\n"
          ]
        },
        {
          "metadata": {
            "tags": null
          },
          "name": "stderr",
          "output_type": "stream",
          "text": [
            "Removing seams: 100%|██████████| 134/134 [06:23<00:00,  2.86s/it]\n"
          ]
        },
        {
          "metadata": {
            "tags": null
          },
          "name": "stdout",
          "output_type": "stream",
          "text": [
            "Resized image saved to /content/output/BRUTE/pic1_75.0%.jpg\n"
          ]
        },
        {
          "metadata": {
            "tags": null
          },
          "name": "stderr",
          "output_type": "stream",
          "text": [
            "Greedy cropping columns: 100%|██████████| 134/134 [00:11<00:00, 11.21it/s]\n"
          ]
        },
        {
          "metadata": {
            "tags": null
          },
          "name": "stdout",
          "output_type": "stream",
          "text": [
            "Resized image saved to /content/output/GREEDY/pic1_75.0%.jpg\n"
          ]
        },
        {
          "metadata": {
            "tags": null
          },
          "name": "stderr",
          "output_type": "stream",
          "text": [
            "100%|██████████| 134/134 [03:16<00:00,  1.47s/it]\n"
          ]
        },
        {
          "metadata": {
            "tags": null
          },
          "name": "stdout",
          "output_type": "stream",
          "text": [
            "Resized image saved to /content/output/DYNAMIC/pic1_75.0%.jpg\n"
          ]
        },
        {
          "output_type": "stream",
          "name": "stderr",
          "text": [
            "Removing seams: 100%|██████████| 267/267 [12:25<00:00,  2.79s/it]\n"
          ]
        },
        {
          "output_type": "stream",
          "name": "stdout",
          "text": [
            "Resized image saved to /content/output/BRUTE/pic1_50.0%.jpg\n"
          ]
        },
        {
          "output_type": "stream",
          "name": "stderr",
          "text": [
            "Greedy cropping columns: 100%|██████████| 267/267 [00:21<00:00, 12.69it/s]\n"
          ]
        },
        {
          "output_type": "stream",
          "name": "stdout",
          "text": [
            "Resized image saved to /content/output/GREEDY/pic1_50.0%.jpg\n"
          ]
        },
        {
          "output_type": "stream",
          "name": "stderr",
          "text": [
            "100%|██████████| 267/267 [05:12<00:00,  1.17s/it]\n"
          ]
        },
        {
          "output_type": "stream",
          "name": "stdout",
          "text": [
            "Resized image saved to /content/output/DYNAMIC/pic1_50.0%.jpg\n"
          ]
        },
        {
          "output_type": "stream",
          "name": "stderr",
          "text": [
            "Removing seams: 100%|██████████| 15/15 [00:12<00:00,  1.22it/s]\n"
          ]
        },
        {
          "output_type": "stream",
          "name": "stdout",
          "text": [
            "Resized image saved to /content/output/BRUTE/pic2_90.0%.jpg\n"
          ]
        },
        {
          "output_type": "stream",
          "name": "stderr",
          "text": [
            "Greedy cropping columns: 100%|██████████| 15/15 [00:00<00:00, 120.01it/s]\n"
          ]
        },
        {
          "output_type": "stream",
          "name": "stdout",
          "text": [
            "Resized image saved to /content/output/GREEDY/pic2_90.0%.jpg\n"
          ]
        },
        {
          "output_type": "stream",
          "name": "stderr",
          "text": [
            "100%|██████████| 15/15 [00:02<00:00,  6.10it/s]\n"
          ]
        },
        {
          "output_type": "stream",
          "name": "stdout",
          "text": [
            "Resized image saved to /content/output/DYNAMIC/pic2_90.0%.jpg\n"
          ]
        },
        {
          "output_type": "stream",
          "name": "stderr",
          "text": [
            "Removing seams: 100%|██████████| 37/37 [00:30<00:00,  1.21it/s]\n"
          ]
        },
        {
          "output_type": "stream",
          "name": "stdout",
          "text": [
            "Resized image saved to /content/output/BRUTE/pic2_75.0%.jpg\n"
          ]
        },
        {
          "output_type": "stream",
          "name": "stderr",
          "text": [
            "Greedy cropping columns: 100%|██████████| 37/37 [00:00<00:00, 134.13it/s]\n"
          ]
        },
        {
          "output_type": "stream",
          "name": "stdout",
          "text": [
            "Resized image saved to /content/output/GREEDY/pic2_75.0%.jpg\n"
          ]
        },
        {
          "output_type": "stream",
          "name": "stderr",
          "text": [
            "100%|██████████| 37/37 [00:04<00:00,  8.73it/s]\n"
          ]
        },
        {
          "output_type": "stream",
          "name": "stdout",
          "text": [
            "Resized image saved to /content/output/DYNAMIC/pic2_75.0%.jpg\n"
          ]
        },
        {
          "output_type": "stream",
          "name": "stderr",
          "text": [
            "Removing seams: 100%|██████████| 74/74 [01:00<00:00,  1.23it/s]\n"
          ]
        },
        {
          "output_type": "stream",
          "name": "stdout",
          "text": [
            "Resized image saved to /content/output/BRUTE/pic2_50.0%.jpg\n"
          ]
        },
        {
          "output_type": "stream",
          "name": "stderr",
          "text": [
            "Greedy cropping columns: 100%|██████████| 74/74 [00:00<00:00, 151.38it/s]\n"
          ]
        },
        {
          "output_type": "stream",
          "name": "stdout",
          "text": [
            "Resized image saved to /content/output/GREEDY/pic2_50.0%.jpg\n"
          ]
        },
        {
          "output_type": "stream",
          "name": "stderr",
          "text": [
            "100%|██████████| 74/74 [00:08<00:00,  8.96it/s]\n"
          ]
        },
        {
          "output_type": "stream",
          "name": "stdout",
          "text": [
            "Resized image saved to /content/output/DYNAMIC/pic2_50.0%.jpg\n"
          ]
        },
        {
          "output_type": "stream",
          "name": "stderr",
          "text": [
            "Removing seams: 100%|██████████| 28/28 [01:13<00:00,  2.63s/it]\n"
          ]
        },
        {
          "output_type": "stream",
          "name": "stdout",
          "text": [
            "Resized image saved to /content/output/BRUTE/pic3_90.0%.jpg\n"
          ]
        },
        {
          "output_type": "stream",
          "name": "stderr",
          "text": [
            "Greedy cropping columns: 100%|██████████| 28/28 [00:01<00:00, 21.07it/s]\n"
          ]
        },
        {
          "output_type": "stream",
          "name": "stdout",
          "text": [
            "Resized image saved to /content/output/GREEDY/pic3_90.0%.jpg\n"
          ]
        },
        {
          "output_type": "stream",
          "name": "stderr",
          "text": [
            "100%|██████████| 28/28 [00:21<00:00,  1.29it/s]\n"
          ]
        },
        {
          "output_type": "stream",
          "name": "stdout",
          "text": [
            "Resized image saved to /content/output/DYNAMIC/pic3_90.0%.jpg\n"
          ]
        },
        {
          "output_type": "stream",
          "name": "stderr",
          "text": [
            "Removing seams: 100%|██████████| 70/70 [03:02<00:00,  2.61s/it]\n"
          ]
        },
        {
          "output_type": "stream",
          "name": "stdout",
          "text": [
            "Resized image saved to /content/output/BRUTE/pic3_75.0%.jpg\n"
          ]
        },
        {
          "output_type": "stream",
          "name": "stderr",
          "text": [
            "Greedy cropping columns: 100%|██████████| 70/70 [00:02<00:00, 23.73it/s]\n"
          ]
        },
        {
          "output_type": "stream",
          "name": "stdout",
          "text": [
            "Resized image saved to /content/output/GREEDY/pic3_75.0%.jpg\n"
          ]
        },
        {
          "output_type": "stream",
          "name": "stderr",
          "text": [
            "100%|██████████| 70/70 [00:49<00:00,  1.42it/s]\n"
          ]
        },
        {
          "output_type": "stream",
          "name": "stdout",
          "text": [
            "Resized image saved to /content/output/DYNAMIC/pic3_75.0%.jpg\n"
          ]
        },
        {
          "output_type": "stream",
          "name": "stderr",
          "text": [
            "Removing seams: 100%|██████████| 139/139 [05:58<00:00,  2.58s/it]\n"
          ]
        },
        {
          "output_type": "stream",
          "name": "stdout",
          "text": [
            "Resized image saved to /content/output/BRUTE/pic3_50.0%.jpg\n"
          ]
        },
        {
          "output_type": "stream",
          "name": "stderr",
          "text": [
            "Greedy cropping columns: 100%|██████████| 139/139 [00:05<00:00, 23.26it/s]\n"
          ]
        },
        {
          "output_type": "stream",
          "name": "stdout",
          "text": [
            "Resized image saved to /content/output/GREEDY/pic3_50.0%.jpg\n"
          ]
        },
        {
          "output_type": "stream",
          "name": "stderr",
          "text": [
            "100%|██████████| 139/139 [01:24<00:00,  1.65it/s]"
          ]
        },
        {
          "output_type": "stream",
          "name": "stdout",
          "text": [
            "Resized image saved to /content/output/DYNAMIC/pic3_50.0%.jpg\n"
          ]
        },
        {
          "output_type": "stream",
          "name": "stderr",
          "text": [
            "\n"
          ]
        }
      ],
      "source": [
        "# algorithms  = [brute_force_seam_carve_scaled, greedy_seam_carving, seam_carving_dynamic]\n",
        "DEFAULT_PATH = \"/content/pic\"\n",
        "DEFAULT_OUT = \"/content/output/\"\n",
        "scale_factors = [0.9, 0.75, 0.5]\n",
        "time_frames = {\n",
        "    1:[],\n",
        "    2:[],\n",
        "    3:[]\n",
        "}\n",
        "\n",
        "for i in range(1,4):\n",
        "  for scale in scale_factors:\n",
        "\n",
        "    image_input_path = DEFAULT_PATH+str(i)+\".jpg\"\n",
        "\n",
        "    dynamic_out_path = DEFAULT_OUT+\"DYNAMIC/pic\"+str(i)+\"_\"+str(scale*100)+\"%.jpg\"\n",
        "    brute_out_path = DEFAULT_OUT+\"BRUTE/pic\"+str(i)+\"_\"+str(scale*100)+\"%.jpg\"\n",
        "    greedy_out_path = DEFAULT_OUT+\"GREEDY/pic\"+str(i)+\"_\"+str(scale*100)+\"%.jpg\"\n",
        "\n",
        "    tmp_time = []\n",
        "\n",
        "\n",
        "    start = time.time()\n",
        "\n",
        "    brute_force_seam_carving(True, image_input_path, brute_out_path, scale)\n",
        "\n",
        "    end = time.time()\n",
        "\n",
        "    tmp_time.append( end-start)\n",
        "\n",
        "\n",
        "    start = time.time()\n",
        "    greedy_seam_carving(True, scale, image_input_path, greedy_out_path)\n",
        "    end = time.time()\n",
        "\n",
        "    tmp_time.append( end-start)\n",
        "\n",
        "\n",
        "\n",
        "    start = time.time()\n",
        "    seam_carving_dynamic(True, scale, image_input_path, dynamic_out_path)\n",
        "\n",
        "    end = time.time()\n",
        "\n",
        "    tmp_time.append( end-start)\n",
        "\n",
        "    time_frames[i].append(tuple(tmp_time))\n"
      ]
    },
    {
      "cell_type": "code",
      "execution_count": null,
      "metadata": {
        "colab": {
          "base_uri": "https://localhost:8080/",
          "height": 1000
        },
        "id": "FhTPqxMAEHA4",
        "outputId": "9e202ad0-b86f-4ee3-961b-aa072e066abd"
      },
      "outputs": [
        {
          "output_type": "display_data",
          "data": {
            "text/plain": [
              "<Figure size 640x480 with 1 Axes>"
            ],
            "image/png": "[encoded data removed]"
          },
          "metadata": {}
        },
        {
          "output_type": "display_data",
          "data": {
            "text/plain": [
              "<Figure size 640x480 with 1 Axes>"
            ],
            "image/png": "[encoded data removed]"
          },
          "metadata": {}
        },
        {
          "output_type": "display_data",
          "data": {
            "text/plain": [
              "<Figure size 640x480 with 1 Axes>"
            ],
            "image/png": "[encoded data removed]"
          },
          "metadata": {}
        }
      ],
      "source": [
        "colors = ['b', 'g', 'r']\n",
        "\n",
        "# Algorithm names\n",
        "algo_names = ['Brute Seam Carving', 'Greedy Seam Carving', 'Dynamic Seam Carving']\n",
        "\n",
        "# Create a function to plot for each picture\n",
        "def plot_picture_times(pic_index):\n",
        "    # Get the times for this picture\n",
        "    pic_times = time_frames[pic_index]\n",
        "\n",
        "    # Create figure and axes\n",
        "    fig, ax = plt.subplots()\n",
        "\n",
        "    # Set the x locations for the groups\n",
        "    scale_factors_str = [f'{int(scale*100)}%' for scale in scale_factors]\n",
        "    x = np.arange(len(scale_factors_str))\n",
        "\n",
        "    # Plot lines for each algorithm\n",
        "    for i, color in enumerate(colors):\n",
        "        times = [t[i] for t in pic_times]\n",
        "        ax.plot(x, times, marker='o', linestyle='-', color=color, label=algo_names[i])\n",
        "\n",
        "    # Add some text for labels, title and axes ticks\n",
        "    ax.set_xlabel('Scale Factors')\n",
        "    ax.set_ylabel('Time (s)')\n",
        "    ax.set_title(f'Time taken for Picture {pic_index}')\n",
        "    ax.set_xticks(x)\n",
        "    ax.set_xticklabels(scale_factors_str)\n",
        "    ax.legend()\n",
        "\n",
        "    # Show grid for better readability\n",
        "    ax.grid(True)\n",
        "\n",
        "    plt.tight_layout()  # Adjust layout to prevent overlap\n",
        "    plt.show()\n",
        "\n",
        "# Call the function for each picture\n",
        "for i in range(1, 4):\n",
        "    plot_picture_times(i)"
      ]
    }
  ],
  "metadata": {
    "colab": {
      "provenance": []
    },
    "kernelspec": {
      "display_name": "base",
      "language": "python",
      "name": "python3"
    },
    "language_info": {
      "codemirror_mode": {
        "name": "ipython",
        "version": 3
      },
      "file_extension": ".py",
      "mimetype": "text/x-python",
      "name": "python",
      "nbconvert_exporter": "python",
      "pygments_lexer": "ipython3",
      "version": "3.11.4"
    }
  },
  "nbformat": 4,
  "nbformat_minor": 0
}